{
 "cells": [
  {
   "cell_type": "code",
   "execution_count": null,
   "metadata": {},
   "outputs": [],
   "source": [
    "from wikibase_api import Wikibase\n",
    "import time\n",
    "from Levenshtein import distance, ratio\n",
    "import pickle\n",
    "import pandas as pd\n",
    "from sklearn.metrics import accuracy_score\n",
    "from sklearn.metrics import recall_score\n",
    "from sklearn.metrics import f1_score"
   ]
  },
  {
   "cell_type": "markdown",
   "metadata": {},
   "source": [
    "## Generating a \"baseline\" result file to compare it with GT"
   ]
  },
  {
   "cell_type": "code",
   "execution_count": null,
   "metadata": {},
   "outputs": [],
   "source": [
    "cea_target_R1 = pd.read_csv('data/SemTab/SemTab2020_Table_GT_Target/Round1/CEA_Round1_Targets.csv', header=None)\n",
    "\n",
    "wb = Wikibase()\n",
    "\n",
    "tablename = \"\"\n",
    "baseline_cea = []\n",
    "\n",
    "start = time.time()\n",
    "\n",
    "for i in range(200000):\n",
    "    if tablename != str(cea_target_R1.iloc[i, 0]):\n",
    "        print(cea_target_R1.iloc[i, 0])\n",
    "        tablename = str(cea_target_R1.iloc[i, 0])\n",
    "        table = pd.read_csv('D:/Masterarbeit/data/SemTab/SemTab2020_Table_GT_Target/Round1/tables/'+tablename+'.csv', header=None)\n",
    "    \n",
    "    try:\n",
    "        entityLabel = str(table.iloc[cea_target_R1.iloc[i,1], cea_target_R1.iloc[i,2]])\n",
    "    except IndexError:\n",
    "        print(\"targen not found\", \"(\" + str(cea_target_R1.iloc[i,1])+ \", \"+ str(cea_target_R1.iloc[i,2])+ \") in table \"+ tablename)\n",
    "        baseline_cea.append(\"(\" + str(cea_target_R1.iloc[i,1])+ \", \"+ str(cea_target_R1.iloc[i,2])+ \") in table \"+ tablename) \n",
    "        continue\n",
    "        \n",
    "    wikiLookupResult = wb.entity.search(entityLabel, \"en\", limit = 4)\n",
    "    \n",
    "    try:\n",
    "        candites = dict()\n",
    "        \n",
    "        for result in wikiLookupResult['search']:\n",
    "            candites[result[\"concepturi\"]] = result[\"label\"]\n",
    "            \n",
    "        baseline_cea.append(str(max(candites, key = lambda k: ratio(candites[k], entityLabel ))))\n",
    "    except (IndexError, ValueError) as e:\n",
    "        print(\"für label: \"+ entityLabel +\" nichts gefunden\")\n",
    "        baseline_cea.append(\"nichts gefunden\")\n",
    "        continue\n",
    "        \n",
    "pickle.dump(baseline_cea, open( \"baseline_cea_semtab\", \"wb\"))\n",
    "print(time.time()-start)"
   ]
  },
  {
   "cell_type": "code",
   "execution_count": 31,
   "metadata": {},
   "outputs": [
    {
     "name": "stdout",
     "output_type": "stream",
     "text": [
      "Accuracy:  0.93252\n",
      "Recall (micro):  0.93252\n",
      "F1 (micro) :  0.9325200000000001\n"
     ]
    },
    {
     "name": "stderr",
     "output_type": "stream",
     "text": [
      "C:\\Users\\Angelos\\AppData\\Roaming\\Python\\Python37\\site-packages\\sklearn\\metrics\\_classification.py:1221: UndefinedMetricWarning: Recall is ill-defined and being set to 0.0 in labels with no true samples. Use `zero_division` parameter to control this behavior.\n",
      "  _warn_prf(average, modifier, msg_start, len(result))\n"
     ]
    },
    {
     "name": "stdout",
     "output_type": "stream",
     "text": [
      "Recall(macro):  0.8400511367710303\n",
      "F1: (macro) 0.8343811089874944\n"
     ]
    }
   ],
   "source": [
    "cea_gt_R1 = pd.read_csv('D:/Masterarbeit/data/SemTab/SemTab2020_Table_GT_Target/GT/CEA/CEA_Round1_gt.csv', header= None)\n",
    "\n",
    "gt_array= cea_gt_R1.iloc[:200000,3].values\n",
    "#print(gt_array)\n",
    "#print(baseline_cea)\n",
    "\n",
    "acc = accuracy_score(gt_array, baseline_cea)\n",
    "recall = recall_score(gt_array, baseline_cea, average='micro')\n",
    "f1 = f1_score(gt_array, baseline_cea, average='micro')\n",
    "\n",
    "print(\"Accuracy: \",accuracy_score(gt_array, baseline_cea))\n",
    "print(\"Recall (micro): \",recall)\n",
    "print(\"F1 (micro) : \", f1)\n",
    "\n",
    "recall = recall_score(gt_array, baseline_cea, average='macro')\n",
    "f1 = f1_score(gt_array, baseline_cea, average='macro')\n",
    "\n",
    "print(\"Recall(macro): \",recall)\n",
    "print(\"F1: (macro)\", f1)"
   ]
  },
  {
   "cell_type": "code",
   "execution_count": 32,
   "metadata": {},
   "outputs": [
    {
     "name": "stdout",
     "output_type": "stream",
     "text": [
      "Recall(macro):  0.93252\n",
      "F1: (macro) 0.9279286856777293\n"
     ]
    }
   ],
   "source": [
    "recall = recall_score(gt_array, baseline_cea, average='weighted')\n",
    "f1 = f1_score(gt_array, baseline_cea, average='weighted')\n",
    "\n",
    "print(\"Recall(weighted): \",recall)\n",
    "print(\"F1: (weighted)\", f1)"
   ]
  },
  {
   "cell_type": "code",
   "execution_count": 47,
   "metadata": {
    "scrolled": true
   },
   "outputs": [
    {
     "data": {
      "text/plain": [
       "<Figure size 3600x3600 with 0 Axes>"
      ]
     },
     "metadata": {},
     "output_type": "display_data"
    },
    {
     "data": {
      "image/png": "[encoded data removed]",
      "text/plain": [
       "<Figure size 432x288 with 1 Axes>"
      ]
     },
     "metadata": {
      "needs_background": "light"
     },
     "output_type": "display_data"
    }
   ],
   "source": [
    "labels = ['2', '3']\n",
    "two_chunksize = [0.733753749566511, 0.5310232064745632]#, 0.25151452372683863, 0.1996786007183901, 0.1714848760377329]\n",
    "three_chunksize = [0.7529151988231942, 0.5898510487856231]#, 0.26388279753244465,  0.2070005450479288, 0.175537412587996]\n",
    "four_chunksize = [0.7690016126115269, 0.6189361046239957]#, 0.2755442086342804, 0.21498222269133654, 0.18106912287288224]\n",
    "five_chunksize = [0.48779328406699746, 0.33858678907895473, 0.2591298484355851, 0.21108699879488918, 0.18152291303140908]\n",
    "six_chunksize = [0.4857857508577942,  0.3409245410112377, 0.2658983944159853, 0, 0]\n",
    "\n",
    "x = np.arange(0, len(labels)*2, 2)  # the label locations\n",
    "width = 0.3  # the width of the bars\n",
    "\n",
    "plt.figure(figsize=(50,50))\n",
    "\n",
    "fig, ax = plt.subplots()\n",
    "rects1 = ax.bar(x - width, two_chunksize, width, label='Chunksize=2')\n",
    "rects2 = ax.bar(x , three_chunksize, width, label='Chunksize=3')\n",
    "rects3 = ax.bar(x + width, four_chunksize, width, label='Chunksize=4')\n",
    "#rects4 = ax.bar(x + width, five_chunksize, width, label='Chunksize=5')\n",
    "#rects5 = ax.bar(x + width*2, six_chunksize, width, label='Chunksize=6')\n",
    "\n",
    "ax.set_ylabel('F1 Score')\n",
    "ax.set_xlabel(\"Number of Candidates\")\n",
    "#ax.set_title('Scores by number of candida and gender')\n",
    "ax.set_xticks(x)\n",
    "ax.set_xticklabels(labels)\n",
    "ax.legend()\n",
    "\n",
    "\n",
    "\n",
    "\n",
    "plt.show()"
   ]
  },
  {
   "cell_type": "code",
   "execution_count": 24,
   "metadata": {},
   "outputs": [
    {
     "name": "stdout",
     "output_type": "stream",
     "text": [
      "[0 1 2 3]\n"
     ]
    },
    {
     "data": {
      "text/plain": [
       "<BarContainer object of 4 artists>"
      ]
     },
     "execution_count": 24,
     "metadata": {},
     "output_type": "execute_result"
    },
    {
     "data": {
      "image/png": "[encoded data removed]",
      "text/plain": [
       "<Figure size 432x288 with 1 Axes>"
      ]
     },
     "metadata": {
      "needs_background": "light"
     },
     "output_type": "display_data"
    }
   ],
   "source": [
    "import numpy as np\n",
    "import matplotlib.pyplot as plt\n",
    "data = [[30, 25, 50, 20],\n",
    "[40, 23, 51, 17],\n",
    "[35, 22, 45, 19]]\n",
    "X = np.arange(5)\n",
    "print(X)\n",
    "fig = plt.figure()\n",
    "ax = fig.add_axes([0,0,1,1])\n",
    "ax.bar(X + 0.00, data[0], color = 'b', width = 0.25)\n",
    "ax.bar(X + 0.25, data[1], color = 'g', width = 0.25)\n",
    "ax.bar(X + 0.50, data[2], color = 'r', width = 0.25)\n",
    "#ax.bar(X + 0.75, data[0], color = 'k', width = 0.25)"
   ]
  },
  {
   "cell_type": "code",
   "execution_count": 23,
   "metadata": {
    "scrolled": true
   },
   "outputs": [
    {
     "name": "stdout",
     "output_type": "stream",
     "text": [
      "http://www.wikidata.org/entity/Q2472824 ===== http://www.wikidata.org/entity/Q2472824\n",
      "http://www.wikidata.org/entity/Q727 ===== http://www.wikidata.org/entity/Q9899\n",
      "http://www.wikidata.org/entity/Q55 ===== http://www.wikidata.org/entity/Q55\n",
      "http://www.wikidata.org/entity/Q54141196 ===== http://www.wikidata.org/entity/Q54141196\n",
      "http://www.wikidata.org/entity/Q6772003 ===== http://www.wikidata.org/entity/Q6772003\n",
      "http://www.wikidata.org/entity/Q350 ===== http://www.wikidata.org/entity/Q350\n",
      "http://www.wikidata.org/entity/Q145 ===== http://www.wikidata.org/entity/Q145\n",
      "http://www.wikidata.org/entity/Q742421 ===== http://www.wikidata.org/entity/Q742421\n",
      "http://www.wikidata.org/entity/Q20922180 ===== http://www.wikidata.org/entity/Q20922180\n",
      "http://www.wikidata.org/entity/Q8717 ===== http://www.wikidata.org/entity/Q8717\n",
      "http://www.wikidata.org/entity/Q29 ===== http://www.wikidata.org/entity/Q29\n",
      "http://www.wikidata.org/entity/Q43229 ===== http://www.wikidata.org/entity/Q43229\n",
      "http://www.wikidata.org/entity/Q7163761 ===== http://www.wikidata.org/entity/Q7163761\n",
      "http://www.wikidata.org/entity/Q1345 ===== http://www.wikidata.org/entity/Q1345\n",
      "http://www.wikidata.org/entity/Q30 ===== http://www.wikidata.org/entity/Q30\n",
      "http://www.wikidata.org/entity/Q43229 ===== http://www.wikidata.org/entity/Q43229\n",
      "http://www.wikidata.org/entity/Q5146808 ===== http://www.wikidata.org/entity/Q5146808\n",
      "http://www.wikidata.org/entity/Q1345 ===== http://www.wikidata.org/entity/Q1345\n",
      "http://www.wikidata.org/entity/Q30 ===== http://www.wikidata.org/entity/Q30\n",
      "http://www.wikidata.org/entity/Q43229 ===== http://www.wikidata.org/entity/Q43229\n",
      "http://www.wikidata.org/entity/Q2472824 ===== http://www.wikidata.org/entity/Q2472824\n",
      "http://www.wikidata.org/entity/Q727 ===== http://www.wikidata.org/entity/Q9899\n",
      "http://www.wikidata.org/entity/Q55 ===== http://www.wikidata.org/entity/Q55\n",
      "http://www.wikidata.org/entity/Q41176 ===== http://www.wikidata.org/entity/Q41176\n",
      "http://www.wikidata.org/entity/Q21069439 ===== http://www.wikidata.org/entity/Q21069439\n",
      "http://www.wikidata.org/entity/Q5617890 ===== http://www.wikidata.org/entity/Q5617890\n",
      "http://www.wikidata.org/entity/Q843 ===== http://www.wikidata.org/entity/Q843\n",
      "http://www.wikidata.org/entity/Q8425 ===== http://www.wikidata.org/entity/Q8425\n",
      "http://www.wikidata.org/entity/Q21014488 ===== http://www.wikidata.org/entity/Q21014488\n",
      "http://www.wikidata.org/entity/Q90 ===== http://www.wikidata.org/entity/Q90\n",
      "http://www.wikidata.org/entity/Q142 ===== http://www.wikidata.org/entity/Q142\n",
      "http://www.wikidata.org/entity/Q8425 ===== http://www.wikidata.org/entity/Q8425\n",
      "http://www.wikidata.org/entity/Q20922180 ===== http://www.wikidata.org/entity/Q20922180\n",
      "http://www.wikidata.org/entity/Q8717 ===== http://www.wikidata.org/entity/Q8717\n",
      "http://www.wikidata.org/entity/Q29 ===== http://www.wikidata.org/entity/Q29\n",
      "http://www.wikidata.org/entity/Q8425 ===== http://www.wikidata.org/entity/Q8425\n",
      "http://www.wikidata.org/entity/Q16544433 ===== http://www.wikidata.org/entity/Q16544433\n",
      "http://www.wikidata.org/entity/Q15682 ===== http://www.wikidata.org/entity/Q15682\n",
      "http://www.wikidata.org/entity/Q29 ===== http://www.wikidata.org/entity/Q29\n",
      "http://www.wikidata.org/entity/Q8425 ===== http://www.wikidata.org/entity/Q8425\n",
      "http://www.wikidata.org/entity/Q9078428 ===== http://www.wikidata.org/entity/Q9078428\n",
      "http://www.wikidata.org/entity/Q15092 ===== http://www.wikidata.org/entity/Q15092\n",
      "http://www.wikidata.org/entity/Q29 ===== http://www.wikidata.org/entity/Q29\n",
      "http://www.wikidata.org/entity/Q8425 ===== http://www.wikidata.org/entity/Q8425\n",
      "http://www.wikidata.org/entity/Q7552441 ===== http://www.wikidata.org/entity/Q7552441\n",
      "http://www.wikidata.org/entity/Q1370 ===== http://www.wikidata.org/entity/Q1370\n",
      "http://www.wikidata.org/entity/Q30 ===== http://www.wikidata.org/entity/Q30\n",
      "http://www.wikidata.org/entity/Q8425 ===== http://www.wikidata.org/entity/Q8425\n",
      "http://www.wikidata.org/entity/Q7163761 ===== http://www.wikidata.org/entity/Q7163761\n",
      "http://www.wikidata.org/entity/Q1345 ===== http://www.wikidata.org/entity/Q1345\n",
      "http://www.wikidata.org/entity/Q30 ===== http://www.wikidata.org/entity/Q30\n",
      "http://www.wikidata.org/entity/Q8425 ===== http://www.wikidata.org/entity/Q8425\n",
      "http://www.wikidata.org/entity/Q6772003 ===== http://www.wikidata.org/entity/Q6772003\n",
      "http://www.wikidata.org/entity/Q350 ===== http://www.wikidata.org/entity/Q350\n",
      "http://www.wikidata.org/entity/Q145 ===== http://www.wikidata.org/entity/Q145\n",
      "http://www.wikidata.org/entity/Q8425 ===== http://www.wikidata.org/entity/Q8425\n",
      "http://www.wikidata.org/entity/Q5146808 ===== http://www.wikidata.org/entity/Q5146808\n",
      "http://www.wikidata.org/entity/Q1345 ===== http://www.wikidata.org/entity/Q1345\n",
      "http://www.wikidata.org/entity/Q30 ===== http://www.wikidata.org/entity/Q30\n",
      "http://www.wikidata.org/entity/Q8425 ===== http://www.wikidata.org/entity/Q8425\n",
      "http://www.wikidata.org/entity/Q4679489 ===== http://www.wikidata.org/entity/Q4679489\n",
      "http://www.wikidata.org/entity/Q40435 ===== http://www.wikidata.org/entity/Q40435\n",
      "http://www.wikidata.org/entity/Q30 ===== http://www.wikidata.org/entity/Q30\n",
      "http://www.wikidata.org/entity/Q8425 ===== http://www.wikidata.org/entity/Q8425\n",
      "http://www.wikidata.org/entity/Q3488616 ===== http://www.wikidata.org/entity/Q3488616\n",
      "http://www.wikidata.org/entity/Q340 ===== http://www.wikidata.org/entity/Q340\n",
      "http://www.wikidata.org/entity/Q16 ===== http://www.wikidata.org/entity/Q16\n",
      "http://www.wikidata.org/entity/Q8425 ===== http://www.wikidata.org/entity/Q8425\n",
      "http://www.wikidata.org/entity/Q2472824 ===== http://www.wikidata.org/entity/Q2472824\n",
      "http://www.wikidata.org/entity/Q727 ===== http://www.wikidata.org/entity/Q9899\n",
      "http://www.wikidata.org/entity/Q55 ===== http://www.wikidata.org/entity/Q55\n",
      "http://www.wikidata.org/entity/Q8425 ===== http://www.wikidata.org/entity/Q8425\n",
      "http://www.wikidata.org/entity/Q1514043 ===== http://www.wikidata.org/entity/Q1514043\n",
      "http://www.wikidata.org/entity/Q7058627 ===== http://www.wikidata.org/entity/Q7058627\n",
      "http://www.wikidata.org/entity/Q30 ===== http://www.wikidata.org/entity/Q30\n",
      "http://www.wikidata.org/entity/Q8425 ===== http://www.wikidata.org/entity/Q8425\n",
      "http://www.wikidata.org/entity/Q1139380 ===== http://www.wikidata.org/entity/Q1139380\n",
      "http://www.wikidata.org/entity/Q79860 ===== http://www.wikidata.org/entity/Q79860\n",
      "http://www.wikidata.org/entity/Q30 ===== http://www.wikidata.org/entity/Q30\n",
      "http://www.wikidata.org/entity/Q8425 ===== http://www.wikidata.org/entity/Q8425\n",
      "http://www.wikidata.org/entity/Q4679489 ===== http://www.wikidata.org/entity/Q4679489\n",
      "http://www.wikidata.org/entity/Q40435 ===== http://www.wikidata.org/entity/Q40435\n",
      "http://www.wikidata.org/entity/Q30 ===== http://www.wikidata.org/entity/Q30\n",
      "http://www.wikidata.org/entity/Q7075 ===== http://www.wikidata.org/entity/Q7075\n",
      "http://www.wikidata.org/entity/Q24765347 ===== http://www.wikidata.org/entity/Q24765347\n",
      "http://www.wikidata.org/entity/Q217346 ===== http://www.wikidata.org/entity/Q5695442\n",
      "http://www.wikidata.org/entity/Q30 ===== http://www.wikidata.org/entity/Q30\n",
      "http://www.wikidata.org/entity/Q1685451 ===== http://www.wikidata.org/entity/Q1685451\n",
      "http://www.wikidata.org/entity/Q65560817 ===== http://www.wikidata.org/entity/Q65560817\n",
      "http://www.wikidata.org/entity/Q32159699 ===== http://www.wikidata.org/entity/Q32159699\n",
      "http://www.wikidata.org/entity/Q664 ===== http://www.wikidata.org/entity/Q664\n",
      "http://www.wikidata.org/entity/Q43229 ===== http://www.wikidata.org/entity/Q43229\n",
      "http://www.wikidata.org/entity/Q30225133 ===== http://www.wikidata.org/entity/Q30225133\n",
      "http://www.wikidata.org/entity/Q46940 ===== http://www.wikidata.org/entity/Q46940\n",
      "http://www.wikidata.org/entity/Q29 ===== http://www.wikidata.org/entity/Q29\n",
      "http://www.wikidata.org/entity/Q41176 ===== http://www.wikidata.org/entity/Q41176\n",
      "http://www.wikidata.org/entity/Q24765347 ===== http://www.wikidata.org/entity/Q24765347\n",
      "http://www.wikidata.org/entity/Q217346 ===== http://www.wikidata.org/entity/Q5695442\n",
      "http://www.wikidata.org/entity/Q30 ===== http://www.wikidata.org/entity/Q30\n",
      "http://www.wikidata.org/entity/Q41176 ===== http://www.wikidata.org/entity/Q41176\n",
      "(1, 4) in table OTCDL4LP\n"
     ]
    }
   ],
   "source": [
    "for x in range(len()):\n",
    "    print(baseline_cea[x], \"=====\", cea_gt_R1.iloc[x,3])         \n",
    "print(\"(\" + str(cea_target_R1.iloc[i,1])+ \", \"+ str(cea_target_R1.iloc[i,2])+ \") in table \"+ tablename)"
   ]
  },
  {
   "cell_type": "markdown",
   "metadata": {},
   "source": [
    "#### Timemeasurments\n",
    "\n",
    "with print and if = 25.79776382446289 sec\n",
    "\n",
    "without print(i)  = 22.125993251800537 sec\n",
    "\n",
    "without all prints= 22.347715139389038 \n",
    "\n",
    "wihtout prints and wothout if = 22.37324357032776 sec\n",
    "\n"
   ]
  },
  {
   "cell_type": "code",
   "execution_count": 43,
   "metadata": {},
   "outputs": [
    {
     "name": "stdout",
     "output_type": "stream",
     "text": [
      "0.25417637825012207\n",
      "Germany\n"
     ]
    }
   ],
   "source": [
    "import requests\n",
    "\n",
    "S = requests.Session()\n",
    "\n",
    "URL = \"https://www.wikidata.org/w/api.php\"\n",
    "\n",
    "PARAMS = {\n",
    "    \"action\": \"wbsearchentities\",\n",
    "    \"language\": \"en\",\n",
    "    \"search\": \"Germany\",\n",
    "    \"format\": \"json\",\n",
    "    \"limit\": \"1\"\n",
    "}\n",
    "startt = time.time()\n",
    "R = S.get(url=URL, params=PARAMS)\n",
    "DATA = R.json()\n",
    "#print(R.text)\n",
    "PAGES = DATA['search']\n",
    "print(time.time()-startt)\n",
    "for page in PAGES:\n",
    "    print(page[\"label\"])"
   ]
  },
  {
   "cell_type": "code",
   "execution_count": 25,
   "metadata": {},
   "outputs": [
    {
     "name": "stdout",
     "output_type": "stream",
     "text": [
      "Standards of Conduct Committee - Fourth Assembly\n",
      "-----------------------\n",
      "Children, Young People and Education Committee - Fourth Assembly\n",
      "-----------------------\n",
      "Enterprise and Business Committee - Fourth Assembly\n",
      "-----------------------\n",
      "Constitutional and Legislative Affairs Committee - Fourth Assembly\n",
      "-----------------------\n",
      "Health and Social Care Committee - Fourth Assembly\n",
      "-----------------------\n",
      "Communities, Equality and Local Government Committee - Fourth Assembly\n",
      "-----------------------\n",
      "Environment and Sustainability Committee - Fourth Assembly\n",
      "-----------------------\n"
     ]
    }
   ],
   "source": [
    "from wikibase_api import Wikibase\n",
    "import pandas as pd\n",
    "\n",
    "wb = Wikibase()\n",
    "table = pd.read_csv('D:/Masterarbeit/data/SemTab/SemTab2020_Table_GT_Target/Round1/tables/000COX8L.csv')\n",
    "\n",
    "for label in table[\"col0\"]:\n",
    "    wikiLookupResult = wb.entity.search(label, \"en\", limit = 5)\n",
    "    for result in wikiLookupResult[\"search\"]:\n",
    "        print(result[\"label\"])\n",
    "    print(\"-----------------------\")"
   ]
  },
  {
   "cell_type": "code",
   "execution_count": 22,
   "metadata": {
    "scrolled": true
   },
   "outputs": [
    {
     "name": "stdout",
     "output_type": "stream",
     "text": [
      "[{'id': 'Q727', 'title': 'Q727', 'pageid': 1027, 'repository': 'wikidata', 'url': '//www.wikidata.org/wiki/Q727', 'concepturi': 'http://www.wikidata.org/entity/Q727', 'label': 'Amsterdam', 'description': 'capital and most populous city of the Netherlands', 'match': {'type': 'label', 'language': 'en', 'text': 'Amsterdam'}}, {'id': 'Q9899', 'title': 'Q9899', 'pageid': 11297, 'repository': 'wikidata', 'url': '//www.wikidata.org/wiki/Q9899', 'concepturi': 'http://www.wikidata.org/entity/Q9899', 'label': 'Amsterdam', 'description': 'municipality in the Netherlands, containing the city of Amsterdam', 'match': {'type': 'label', 'language': 'en', 'text': 'Amsterdam'}}, {'id': 'Q478456', 'title': 'Q478456', 'pageid': 450961, 'repository': 'wikidata', 'url': '//www.wikidata.org/wiki/Q478456', 'concepturi': 'http://www.wikidata.org/entity/Q478456', 'label': 'Amsterdam', 'description': 'city in Montgomery County in the state of New York, USA', 'match': {'type': 'label', 'language': 'en', 'text': 'Amsterdam'}}, {'id': 'Q478390', 'title': 'Q478390', 'pageid': 450901, 'repository': 'wikidata', 'url': '//www.wikidata.org/wiki/Q478390', 'concepturi': 'http://www.wikidata.org/entity/Q478390', 'label': 'Amsterdam', 'description': 'Wikimedia disambiguation page', 'match': {'type': 'label', 'language': 'en', 'text': 'Amsterdam'}}, {'id': 'Q959016', 'title': 'Q959016', 'pageid': 908856, 'repository': 'wikidata', 'url': '//www.wikidata.org/wiki/Q959016', 'concepturi': 'http://www.wikidata.org/entity/Q959016', 'label': 'Amsterdam', 'description': 'city in Missouri, United States', 'match': {'type': 'label', 'language': 'en', 'text': 'Amsterdam'}}]\n",
      "Amsterdam - capital and most populous city of the Netherlands\n",
      "Amsterdam - municipality in the Netherlands, containing the city of Amsterdam\n",
      "Amsterdam - city in Montgomery County in the state of New York, USA\n",
      "Amsterdam - Wikimedia disambiguation page\n",
      "Amsterdam - city in Missouri, United States\n",
      "{'http://www.wikidata.org/entity/Q727': 'Amsterdam', 'http://www.wikidata.org/entity/Q9899': 'Amsterdam', 'http://www.wikidata.org/entity/Q478456': 'Amsterdam', 'http://www.wikidata.org/entity/Q478390': 'Amsterdam', 'http://www.wikidata.org/entity/Q959016': 'Amsterdam'}\n"
     ]
    }
   ],
   "source": [
    "from wikibase_api import Wikibase\n",
    "\n",
    "wb = Wikibase()\n",
    "\n",
    "tmpDict = dict()\n",
    "\n",
    "t = wb.entity.search(\"Amsterdam\", \"en\", limit=5)\n",
    "print(t[\"search\"])\n",
    "for result in t[\"search\"]:\n",
    "    print(result[\"label\"], \"-\", result[\"description\"])\n",
    "    tmpDict[result[\"concepturi\"]] = result[\"label\"]\n",
    "    \n",
    "print(tmpDict)"
   ]
  }
 ],
 "metadata": {
  "kernelspec": {
   "display_name": "Python 3",
   "language": "python",
   "name": "python3"
  },
  "language_info": {
   "codemirror_mode": {
    "name": "ipython",
    "version": 3
   },
   "file_extension": ".py",
   "mimetype": "text/x-python",
   "name": "python",
   "nbconvert_exporter": "python",
   "pygments_lexer": "ipython3",
   "version": "3.9.4"
  }
 },
 "nbformat": 4,
 "nbformat_minor": 2
}
